{
 "cells": [
  {
   "cell_type": "markdown",
   "id": "e7a9f336-ec8c-47ad-8da0-381926762225",
   "metadata": {},
   "source": [
    "# ***NUMPY LIBRARY PRACTICE NOTES***\n",
    "## **IMPORTING NUMPY LIBRARY**"
   ]
  },
  {
   "cell_type": "code",
   "execution_count": 1,
   "id": "7b9d2147-2daf-46d4-82b5-38411e40951c",
   "metadata": {},
   "outputs": [],
   "source": [
    "import numpy as np"
   ]
  },
  {
   "cell_type": "code",
   "execution_count": 2,
   "id": "b795d086-a37e-44be-b06f-901a0e4f0300",
   "metadata": {},
   "outputs": [
    {
     "name": "stdout",
     "output_type": "stream",
     "text": [
      "[1 2 3 4 5 6]\n"
     ]
    }
   ],
   "source": [
    "arr = np.array([1,2,3,4,5,6])\n",
    "print(arr)"
   ]
  },
  {
   "cell_type": "code",
   "execution_count": 3,
   "id": "91c90607-af63-4662-9a9c-6c490955bc03",
   "metadata": {},
   "outputs": [
    {
     "name": "stdout",
     "output_type": "stream",
     "text": [
      "1.26.4\n"
     ]
    }
   ],
   "source": [
    "# checking numpy version\n",
    "print(np.__version__)"
   ]
  },
  {
   "cell_type": "markdown",
   "id": "77405f5f-db57-4593-86e8-dcc4ae087648",
   "metadata": {},
   "source": [
    "### Different ways of creating numpy arrays"
   ]
  },
  {
   "cell_type": "code",
   "execution_count": 4,
   "id": "d08834bd-4acd-490d-ac1f-b615699a272f",
   "metadata": {},
   "outputs": [
    {
     "name": "stdout",
     "output_type": "stream",
     "text": [
      "[1 2 3 3 4]\n",
      "[2, 4, 6, 3, 56, 454]\n"
     ]
    }
   ],
   "source": [
    "#1. from python list and tuple\n",
    "bytuple = np.array((1,2,3,3,4))\n",
    "print(bytuple)\n",
    "\n",
    "bylist = ([2,4,6,3,56,454])\n",
    "print(bylist)"
   ]
  },
  {
   "cell_type": "code",
   "execution_count": 5,
   "id": "8609912f-e54b-4ea0-90f3-81221b620765",
   "metadata": {},
   "outputs": [
    {
     "name": "stdout",
     "output_type": "stream",
     "text": [
      "[ 1  2  3  4  5  6  7  8  9 10 11 12 13 14 15 16 17 18 19 20 21 22 23 24\n",
      " 25 26 27 28 29 30 31 32 33 34 35 36 37 38 39 40 41 42 43 44 45 46 47 48\n",
      " 49]\n"
     ]
    }
   ],
   "source": [
    "# 2. USING THE RANGE FUNCTION\n",
    "byrange_function = np.arange(1,50)\n",
    "print(byrange_function)"
   ]
  },
  {
   "cell_type": "code",
   "execution_count": 6,
   "id": "5807e3a3-919c-4a6c-b51e-5c216c78bea1",
   "metadata": {},
   "outputs": [
    {
     "name": "stdout",
     "output_type": "stream",
     "text": [
      "This is by ZEROES : [0. 0. 0. 0.]\n",
      "This is by ONES: [1. 1. 1. 1. 1.]\n"
     ]
    }
   ],
   "source": [
    "# 3. BY USING ZEROES AND ONCES\n",
    "\n",
    "byzeroes = np.zeros(4)\n",
    "byones = np.ones(5)\n",
    "print(\"This is by ZEROES :\",byzeroes)\n",
    "print(\"This is by ONES:\",byones)"
   ]
  },
  {
   "cell_type": "code",
   "execution_count": 7,
   "id": "dc1b43c4-794d-4480-b075-341342545be0",
   "metadata": {},
   "outputs": [
    {
     "name": "stdout",
     "output_type": "stream",
     "text": [
      "[0.   0.25 0.5  0.75 1.  ]\n"
     ]
    }
   ],
   "source": [
    "#4. BY USING LINESPACE \n",
    "bylinespace  = np.linspace(0,1,5) # here 5 is the number of values\n",
    "print(bylinespace)"
   ]
  },
  {
   "cell_type": "code",
   "execution_count": 8,
   "id": "28ebd8a3-0c22-4ad8-a4ab-92b7d9f4ffc9",
   "metadata": {},
   "outputs": [
    {
     "name": "stdout",
     "output_type": "stream",
     "text": [
      "[[0.74761118 0.06524972 0.34970182 0.99767943]\n",
      " [0.89544316 0.8513632  0.64536559 0.57456258]\n",
      " [0.65349821 0.4783448  0.96132031 0.2618652 ]\n",
      " [0.72424422 0.99053427 0.49377822 0.12877182]]\n"
     ]
    }
   ],
   "source": [
    "# 5. BY USING RANDOM.RAND()\n",
    "byrandom = np.random.rand(4,4)\n",
    "print(byrandom)"
   ]
  },
  {
   "cell_type": "markdown",
   "id": "e7f1b317-2e79-4c2b-a6ce-bab465a85454",
   "metadata": {},
   "source": [
    "### **CREATING 3D ARRAYS**"
   ]
  },
  {
   "cell_type": "code",
   "execution_count": 9,
   "id": "7fde4576-ea1b-4cfb-b6c7-f229ad825980",
   "metadata": {},
   "outputs": [
    {
     "name": "stdout",
     "output_type": "stream",
     "text": [
      "[[[ 1  2  3]\n",
      "  [ 4  5  6]]\n",
      "\n",
      " [[ 7  8  9]\n",
      "  [10 11 12]]]\n"
     ]
    }
   ],
   "source": [
    "arr3d = np.array([[[1,2,3],[4,5,6]],[[7,8,9],[10,11,12]]])\n",
    "print(arr3d)"
   ]
  },
  {
   "cell_type": "markdown",
   "id": "56154682-f3d8-488b-a0e0-b462adbdc826",
   "metadata": {},
   "source": [
    "### **Using ndim**\n",
    "**ndim --> its used to get the number of dimensions in an array and it returns the integer value**"
   ]
  },
  {
   "cell_type": "code",
   "execution_count": 10,
   "id": "461d1175-0528-4ae0-ba72-4036c073af37",
   "metadata": {},
   "outputs": [
    {
     "name": "stdout",
     "output_type": "stream",
     "text": [
      "43 ,the dimension is : 0 \n",
      "\n",
      "[43 44 45] ,the dimension is : 1 \n",
      "\n",
      "[[1 2 3]\n",
      " [4 5 6]] ,the dimension is : 2 \n",
      "\n",
      "[[['1' '2' '3']\n",
      "  ['4' '5' '6']]\n",
      "\n",
      " [['k' 'r' 'i']\n",
      "  ['s' 'h' 'n']]] ,the dimension is : 3 \n",
      "\n"
     ]
    }
   ],
   "source": [
    "a = np.array(43)\n",
    "b= np.array([43,44,45])\n",
    "c = np.array([[1,2,3],[4,5,6]])\n",
    "d = np.array([[[1,2,3],[4,5,6]],[['k','r','i'],['s','h','n']]])\n",
    "print(a,\",the dimension is :\",a.ndim,'\\n')\n",
    "print(b,\",the dimension is :\",b.ndim,'\\n')\n",
    "print(c,\",the dimension is :\",c.ndim,'\\n')\n",
    "print(d,\",the dimension is :\",d.ndim,'\\n')"
   ]
  },
  {
   "cell_type": "code",
   "execution_count": 11,
   "id": "ec5ec17f-b82c-4f6a-ad24-fe9e03180cfb",
   "metadata": {},
   "outputs": [
    {
     "name": "stdout",
     "output_type": "stream",
     "text": [
      "[[[[[1 2 3 4 5]]]]]\n",
      "The dimension of [[[[[1 2 3 4 5]]]]] is 5\n"
     ]
    }
   ],
   "source": [
    "# creating higher dimensions arrays\n",
    "hdarray = np.array([1,2,3,4,5],ndmin= 5)\n",
    "print(hdarray)\n",
    "print(\"The dimension of\",hdarray, \"is\",hdarray.ndim)"
   ]
  },
  {
   "cell_type": "markdown",
   "id": "42923c46-1308-400f-a4bf-8bed26d703fa",
   "metadata": {},
   "source": [
    "### **NUMPY ARRAYS INDEXING**"
   ]
  },
  {
   "cell_type": "code",
   "execution_count": 12,
   "id": "071b1683-a7a7-466c-b523-c82468b2f5de",
   "metadata": {},
   "outputs": [
    {
     "name": "stdout",
     "output_type": "stream",
     "text": [
      "5\n",
      "[1 2 3]\n",
      "[1 3]\n"
     ]
    }
   ],
   "source": [
    "arr = np.array([1,2,3,4,5])\n",
    "print(arr[4])\n",
    "print(arr[0:3])\n",
    "print(arr[0:4:2])"
   ]
  },
  {
   "cell_type": "code",
   "execution_count": 13,
   "id": "b16c6d87-f299-4a12-9174-3673ccf3df7b",
   "metadata": {},
   "outputs": [
    {
     "name": "stdout",
     "output_type": "stream",
     "text": [
      "57\n"
     ]
    }
   ],
   "source": [
    "# get the third and fourth array element and add them\n",
    "a1 = np.array([1,23,4,5])\n",
    "a2 = np.array([11,33,44,53])\n",
    "print(a1[2] + a2[3])"
   ]
  },
  {
   "cell_type": "code",
   "execution_count": 14,
   "id": "669e2554-2887-4405-a91e-933ba76f8656",
   "metadata": {},
   "outputs": [],
   "source": [
    "# get the third and fourth array element and add them in 2d arrays"
   ]
  },
  {
   "cell_type": "code",
   "execution_count": 15,
   "id": "70804e4e-772c-4571-9e5e-deae29f8bde4",
   "metadata": {},
   "outputs": [
    {
     "name": "stdout",
     "output_type": "stream",
     "text": [
      "31\n"
     ]
    }
   ],
   "source": [
    "a = np.array([[1,2,34,5],[4,56,7,29]])\n",
    "print(a[0,1] + a[1,3])\n"
   ]
  },
  {
   "cell_type": "markdown",
   "id": "81e3e46e-9263-47f6-a109-e2502a56081c",
   "metadata": {},
   "source": [
    "### **NUMPY ARRAY SLICING**"
   ]
  },
  {
   "cell_type": "code",
   "execution_count": 16,
   "id": "b647df57-b9a1-48b6-9cef-962381837678",
   "metadata": {},
   "outputs": [
    {
     "name": "stdout",
     "output_type": "stream",
     "text": [
      "[27, 34, 43, 52, 14, 77, 45]\n",
      "[]\n"
     ]
    }
   ],
   "source": [
    "a = [19,27,34,43,52,14,77,45,35,32,22,13,34,46,75,44,542]\n",
    "print(a[1: 8])\n",
    "# negative slicing in Numpy arrays \n",
    "print(a[-1:-7])"
   ]
  },
  {
   "cell_type": "code",
   "execution_count": 17,
   "id": "3a047e68-b3a6-4b35-bea7-2d862923348e",
   "metadata": {},
   "outputs": [
    {
     "name": "stdout",
     "output_type": "stream",
     "text": [
      "[2 4 6 8 5]\n"
     ]
    }
   ],
   "source": [
    "# step slicing in numpy array\n",
    "a2 = np.array([1,2,3,4,5,6,7,8,9,5,34,233,213,3,13,24])\n",
    "print(a2[1:10:2])"
   ]
  },
  {
   "cell_type": "markdown",
   "id": "e306673b-30d1-46ad-95e7-e1bc0b8adf69",
   "metadata": {},
   "source": [
    "### **SLICING IN 2D NUMPY ARRAYS**"
   ]
  },
  {
   "cell_type": "code",
   "execution_count": 18,
   "id": "8407a340-49c6-4e3b-8fc7-3ab6d6859d85",
   "metadata": {},
   "outputs": [
    {
     "name": "stdout",
     "output_type": "stream",
     "text": [
      "[33 23 21 35]\n"
     ]
    }
   ],
   "source": [
    "a = np.array([[1,2,3,32,4,5],[33,23,21,35,76,89]])\n",
    "print(a[1,0:4]) # 1 is row value and after comma is the slicing"
   ]
  },
  {
   "cell_type": "code",
   "execution_count": 19,
   "id": "ff424cc3-df9a-4142-9121-6c6d92fdda68",
   "metadata": {},
   "outputs": [
    {
     "name": "stdout",
     "output_type": "stream",
     "text": [
      "[ 3 21]\n",
      "[21]\n"
     ]
    }
   ],
   "source": [
    "print(a[0:2,2])\n",
    "print(a[1:5,2])"
   ]
  },
  {
   "cell_type": "markdown",
   "id": "a482b7f3-53e5-4372-888a-0d72885668ba",
   "metadata": {},
   "source": [
    "### **DATA TYPES IN NUMPY ARRAY**"
   ]
  },
  {
   "cell_type": "code",
   "execution_count": 20,
   "id": "22e1ea4f-f47d-4d06-937d-33bea69a69e6",
   "metadata": {},
   "outputs": [
    {
     "name": "stdout",
     "output_type": "stream",
     "text": [
      "[b'1' b'2' b'3' b'4' b'5']\n",
      "|S1\n"
     ]
    }
   ],
   "source": [
    "'''\n",
    "i-integer , u = unsigned integer , M = datatime \n",
    "f = float, c = comples float , O = object\n",
    "b = boolean , m = timeDelta , S = string\n",
    "U = Unicode String , V = fixed Chunks of memory of other type\n",
    "\n",
    "check datatype = dtype\n",
    "'''\n",
    "ar = np.array([1,2,3,4,5], dtype = \"S\")\n",
    "print(ar)\n",
    "print(ar.dtype)\n",
    "\n"
   ]
  },
  {
   "cell_type": "markdown",
   "id": "aefcc004-e6c9-4864-8a89-6ef10f6a69fe",
   "metadata": {},
   "source": [
    "### **SHAPE OF ARRAY**"
   ]
  },
  {
   "cell_type": "code",
   "execution_count": 21,
   "id": "2c1b0a09-45fa-4f54-8fb5-1d41d42c02d2",
   "metadata": {},
   "outputs": [
    {
     "name": "stdout",
     "output_type": "stream",
     "text": [
      "(2, 6)\n",
      "<U1\n"
     ]
    }
   ],
   "source": [
    "arr = np.array([['a','v','b','s','s','d'],['f','t','i','d','h','g']])\n",
    "print(arr.shape) # (2,6) 2 is rows and 6 is number of columns\n",
    "print(arr.dtype)"
   ]
  },
  {
   "cell_type": "code",
   "execution_count": 22,
   "id": "3fb862a8-a095-44a6-aac8-221082847e82",
   "metadata": {},
   "outputs": [
    {
     "name": "stdout",
     "output_type": "stream",
     "text": [
      "(1, 1, 1, 6)\n",
      "[[[['a' 'v' 'b' 's' 's' 'd']]]]\n"
     ]
    }
   ],
   "source": [
    "arr = np.array(['a','v','b','s','s','d'],ndmin = 4)\n",
    "print(arr.shape)\n",
    "print(arr)"
   ]
  },
  {
   "cell_type": "markdown",
   "id": "d9410b4c-8b9e-4cff-a3a3-6ea3c21b9ba6",
   "metadata": {},
   "source": [
    "### **RESHAPING NUMPY ARRAYS**"
   ]
  },
  {
   "cell_type": "code",
   "execution_count": 23,
   "id": "fb5b5d1f-da83-47bf-bab0-e5eaa4fd4c2c",
   "metadata": {},
   "outputs": [
    {
     "name": "stdout",
     "output_type": "stream",
     "text": [
      "[[ 1  2]\n",
      " [ 3  4]\n",
      " [ 5  6]\n",
      " [ 7  8]\n",
      " [ 9 10]]\n"
     ]
    }
   ],
   "source": [
    "# Reshaping from 1 D to 2D\n",
    "a = np.array([1,2,3,4,5,6,7,8,9,10])\n",
    "newarr=(a.reshape(5,2)) # 5 is number of dimensions and 2 is the number of values in each dimention\n",
    "print(newarr)"
   ]
  },
  {
   "cell_type": "code",
   "execution_count": 24,
   "id": "b38da68e-e4d5-4ac0-bfd0-a3dda92fef42",
   "metadata": {},
   "outputs": [
    {
     "name": "stdout",
     "output_type": "stream",
     "text": [
      "[[[ 1  2]\n",
      "  [ 3  4]\n",
      "  [ 5  6]]\n",
      "\n",
      " [[ 7  8]\n",
      "  [ 9 10]\n",
      "  [11 12]]]\n"
     ]
    }
   ],
   "source": [
    "# Reshaping from 1 D to 3D\n",
    "a = np.array([1,2,3,4,5,6,7,8,9,10,11,12])\n",
    "newarr=(a.reshape(2,3,2)) # 5 is number of dimensions and 2 is the number of values in each dimention\n",
    "print(newarr)"
   ]
  },
  {
   "cell_type": "code",
   "execution_count": 25,
   "id": "d9326472-a645-4245-ab5a-16f5c2c5c420",
   "metadata": {},
   "outputs": [
    {
     "data": {
      "text/plain": [
       "array([ 1,  2,  3,  4,  5,  6,  7,  8,  9, 10, 11, 12])"
      ]
     },
     "execution_count": 25,
     "metadata": {},
     "output_type": "execute_result"
    }
   ],
   "source": [
    "#convert the Numpy arrays back to 1d array using ravel()\n",
    "a.ravel()"
   ]
  },
  {
   "cell_type": "markdown",
   "id": "6c82e6d7-e6e6-480a-a9b3-079b4db4f32e",
   "metadata": {},
   "source": [
    "### **NUMPY AXIS**"
   ]
  },
  {
   "cell_type": "code",
   "execution_count": 26,
   "id": "02c3d0e1-b98a-4ee9-b3c1-df0809f4c69d",
   "metadata": {},
   "outputs": [
    {
     "data": {
      "text/plain": [
       "'\\nAXIS REFERS TO THE DIRECTION ALONG WITH THE OPERATIONS LIKE \\nSUM,ADD,DIFFERENCE,PRODUCT ETC ARE PERFORMED\\n\\nAxis starts from 0 to 1 then ------\\nAxis 0 is the downward which represent the rows\\nAxis 1 is the direction across the columns \\n'"
      ]
     },
     "execution_count": 26,
     "metadata": {},
     "output_type": "execute_result"
    }
   ],
   "source": [
    "'''\n",
    "AXIS REFERS TO THE DIRECTION ALONG WITH THE OPERATIONS LIKE \n",
    "SUM,ADD,DIFFERENCE,PRODUCT ETC ARE PERFORMED\n",
    "\n",
    "Axis starts from 0 to 1 then ------\n",
    "Axis 0 is the downward which represent the rows\n",
    "Axis 1 is the direction across the columns \n",
    "'''"
   ]
  },
  {
   "cell_type": "code",
   "execution_count": 27,
   "id": "687f5a67-a795-4f33-b71e-38d0e77950b8",
   "metadata": {},
   "outputs": [
    {
     "name": "stdout",
     "output_type": "stream",
     "text": [
      "[ 6  8 10 12]\n"
     ]
    }
   ],
   "source": [
    "arr = np.array([[1,2,3,4],[5,6,7,8]])\n",
    "result = np.sum(arr,axis = 0)\n",
    "print(result)"
   ]
  },
  {
   "cell_type": "code",
   "execution_count": 28,
   "id": "46b644a3-63c3-42cb-8830-5409662531eb",
   "metadata": {},
   "outputs": [
    {
     "name": "stdout",
     "output_type": "stream",
     "text": [
      "[10 26]\n"
     ]
    }
   ],
   "source": [
    "result = np.sum(arr,axis = 1)\n",
    "print(result)"
   ]
  },
  {
   "cell_type": "code",
   "execution_count": 29,
   "id": "be2693dc-7ef3-4d64-bffb-2436ac13cb05",
   "metadata": {},
   "outputs": [
    {
     "name": "stdout",
     "output_type": "stream",
     "text": [
      "[3. 4. 5. 6.]\n",
      "[2.5 6.5]\n"
     ]
    }
   ],
   "source": [
    "result1 = np.mean(arr,axis = 0)\n",
    "print(result1)\n",
    "result2 = np.mean(arr,axis = 1)\n",
    "print(result2)"
   ]
  },
  {
   "cell_type": "code",
   "execution_count": 30,
   "id": "eeee9e35-9f4c-4852-a9cd-785d066e6a73",
   "metadata": {},
   "outputs": [
    {
     "name": "stdout",
     "output_type": "stream",
     "text": [
      "[1 2 3 4]\n",
      "[4 8]\n",
      "[[ 1  2  3  4]\n",
      " [ 6  8 10 12]]\n",
      "[0 0]\n",
      "[1 1 1 1]\n"
     ]
    }
   ],
   "source": [
    "result3 = np.min(arr,axis = 0)\n",
    "print(result3)\n",
    "result4 = np.max(arr,axis = 1)\n",
    "print(result4)\n",
    "result5 = np.cumsum(arr,axis = 0)\n",
    "print(result5)\n",
    "result6 = np.argmin(arr,axis = 1)\n",
    "print(result6)\n",
    "result7 = np.argmax(arr,axis = 0)\n",
    "print(result7)"
   ]
  },
  {
   "cell_type": "markdown",
   "id": "ee2d9288-293d-4214-a209-7954220e8a68",
   "metadata": {},
   "source": [
    "### **FIND ARRAY USING WHERE(CONDITION)**"
   ]
  },
  {
   "cell_type": "code",
   "execution_count": 31,
   "id": "67f62bbd-909d-4bea-8f3f-f59e36d3e035",
   "metadata": {},
   "outputs": [
    {
     "name": "stdout",
     "output_type": "stream",
     "text": [
      "(array([6, 7], dtype=int64),)\n"
     ]
    }
   ],
   "source": [
    "findArr = np.array([1,2,3,4,5,6,78,9])\n",
    "print(np.where(findArr> 7))"
   ]
  },
  {
   "cell_type": "markdown",
   "id": "4c5918cc-389e-4036-b3c7-c8626785177e",
   "metadata": {},
   "source": [
    "### **ITERATION IN NUMPY ARRAYS**"
   ]
  },
  {
   "cell_type": "code",
   "execution_count": 32,
   "id": "3ca77025-56c1-4fdf-8e24-07d89bbce7d9",
   "metadata": {},
   "outputs": [
    {
     "name": "stdout",
     "output_type": "stream",
     "text": [
      "[1, 2, 3, 4, 5]\n",
      "[6, 7, 8, 9, 10]\n"
     ]
    }
   ],
   "source": [
    "arr2 = [[1,2,3,4,5],[6,7,8,9,10]]\n",
    "for x in arr2:\n",
    "    print(x)"
   ]
  },
  {
   "cell_type": "code",
   "execution_count": 33,
   "id": "af920da7-dad9-438e-b408-a5310ddd98b8",
   "metadata": {},
   "outputs": [
    {
     "name": "stdout",
     "output_type": "stream",
     "text": [
      "1\n",
      "2\n",
      "3\n",
      "4\n",
      "5\n",
      "22\n",
      "4\n",
      "35\n",
      "5\n",
      "6\n"
     ]
    }
   ],
   "source": [
    "# iterating on each scalar element of the 2d array\n",
    "aa = [[1, 2, 3, 4, 5], [22, 4, 35, 5, 6]]\n",
    "for x in aa:\n",
    "    for y in x:\n",
    "        print(y)"
   ]
  },
  {
   "cell_type": "code",
   "execution_count": 34,
   "id": "9db6325f-ab02-469a-8c92-38a8be59d312",
   "metadata": {},
   "outputs": [
    {
     "name": "stdout",
     "output_type": "stream",
     "text": [
      "1\n",
      "2\n",
      "3\n",
      "4\n",
      "5\n",
      "6\n",
      "7\n",
      "8\n",
      "1\n",
      "2\n",
      "3\n",
      "5\n",
      "6\n",
      "7\n",
      "8\n",
      "9\n"
     ]
    }
   ],
   "source": [
    "# iterating 3d array elements\n",
    "arr3d = np.array([[[1,2,3,4],[5,6,7,8],[1,2,3,5],[6,7,8,9]]])\n",
    "for x in arr3d:\n",
    "    for y in x:\n",
    "        for z in y:\n",
    "            print(z)"
   ]
  },
  {
   "cell_type": "markdown",
   "id": "a33df617-6a8f-4ee1-b812-4e54c039c3eb",
   "metadata": {},
   "source": [
    "### **NUMPY ARRAY JOINS**"
   ]
  },
  {
   "cell_type": "code",
   "execution_count": 35,
   "id": "7a7fa09f-fb66-4e3e-99c6-34faad944782",
   "metadata": {},
   "outputs": [
    {
     "name": "stdout",
     "output_type": "stream",
     "text": [
      "[ 1  2  3  4  5  6  7  8  9 10]\n"
     ]
    }
   ],
   "source": [
    "\"\"\"\n",
    "joining means putting content of two or more arrays in a single array.\n",
    "\"\"\"\n",
    "# join in 2 arrays :\n",
    "\n",
    "a1 = np.array([1,2,3,4,5])\n",
    "a2 = np.array([6,7,8,9,10])\n",
    "a3 = np.concatenate((a1,a2))\n",
    "\n",
    "print(a3)"
   ]
  },
  {
   "cell_type": "code",
   "execution_count": 36,
   "id": "f170d1ac-28f0-4465-9869-f077f107ce13",
   "metadata": {},
   "outputs": [
    {
     "name": "stdout",
     "output_type": "stream",
     "text": [
      "[[ 1  2  3]\n",
      " [ 4  5  6]\n",
      " [11 22 43]\n",
      " [33 44 55]]\n"
     ]
    }
   ],
   "source": [
    "# join 2d arrays\n",
    "aa1 = np.array([[1,2,3],[4,5,6]])\n",
    "aa2 = np.array([[11,22,43],[33,44,55]])\n",
    "aa3 = np.concatenate((aa1,aa2))\n",
    "print(aa3)"
   ]
  },
  {
   "cell_type": "markdown",
   "id": "eb47649a-bb03-4d1f-a197-5b53c303d586",
   "metadata": {},
   "source": [
    "### **Joining the array using stack ()**"
   ]
  },
  {
   "cell_type": "code",
   "execution_count": 37,
   "id": "d14581f8-98a4-472f-aa8d-3e5a4804f691",
   "metadata": {},
   "outputs": [
    {
     "name": "stdout",
     "output_type": "stream",
     "text": [
      "[[ 1  6]\n",
      " [ 2  7]\n",
      " [ 3  8]\n",
      " [ 4  9]\n",
      " [ 5 10]]\n"
     ]
    }
   ],
   "source": [
    "# Using simple stacking\n",
    "\"\"\" \n",
    "the only difference between concatenate and stacking is \n",
    "that stacking is done along a new axis\n",
    "\"\"\"\n",
    "a1 = np.array([1,2,3,4,5])\n",
    "a2 = np.array([6,7,8,9,10])\n",
    "arr3 = np.stack((a1,a2),axis = 1) # in rows \n",
    "print(arr3)"
   ]
  },
  {
   "cell_type": "code",
   "execution_count": 38,
   "id": "4c335714-7317-4509-8c61-743af65b2c47",
   "metadata": {},
   "outputs": [
    {
     "name": "stdout",
     "output_type": "stream",
     "text": [
      "[[ 1  2  3  4  5]\n",
      " [ 6  7  8  9 10]]\n"
     ]
    }
   ],
   "source": [
    "arr4 = np.stack((a1,a2),axis = 0) # in columns\n",
    "print(arr4)"
   ]
  },
  {
   "cell_type": "code",
   "execution_count": 39,
   "id": "8d936901-00cf-4f68-9335-e389bd35e55f",
   "metadata": {},
   "outputs": [
    {
     "name": "stdout",
     "output_type": "stream",
     "text": [
      "[ 1  2  3  4  5  6  7  8  9 10]\n"
     ]
    }
   ],
   "source": [
    "# Stacking using hstack ()-- along rows\n",
    "\n",
    "a3 = np.array([1,2,3,4,5])\n",
    "a4 = np.array([6,7,8,9,10])\n",
    "arr5 = np.hstack((a1,a2)) # along rows \n",
    "print(arr5)"
   ]
  },
  {
   "cell_type": "code",
   "execution_count": 40,
   "id": "79ecafb1-5ebf-4534-8a45-ccdaa298ce12",
   "metadata": {},
   "outputs": [
    {
     "name": "stdout",
     "output_type": "stream",
     "text": [
      "[[ 1  2  3  4  5]\n",
      " [ 6  7  8  9 10]]\n"
     ]
    }
   ],
   "source": [
    "# Stacking using vstack() --- along columns\n",
    "a1 = np.array([1,2,3,4,5])\n",
    "a2 = np.array([6,7,8,9,10])\n",
    "arr3 = np.vstack((a1,a2)) # along columns\n",
    "print(arr3)"
   ]
  },
  {
   "cell_type": "code",
   "execution_count": 41,
   "id": "e9d99547-1ec8-4bc8-b7aa-c68df6e19fb5",
   "metadata": {},
   "outputs": [
    {
     "name": "stdout",
     "output_type": "stream",
     "text": [
      "[[[ 1  6]\n",
      "  [ 2  7]\n",
      "  [ 3  8]\n",
      "  [ 4  9]\n",
      "  [ 5 10]]]\n"
     ]
    }
   ],
   "source": [
    "# Stacking using dstack() -- height(depth)\n",
    "a1 = np.array([1,2,3,4,5])\n",
    "a2 = np.array([6,7,8,9,10])\n",
    "arr3 = np.dstack((a1,a2)) #height \n",
    "print(arr3)"
   ]
  },
  {
   "cell_type": "markdown",
   "id": "766bdc33-1dcc-45b6-9dbf-84421f460bc7",
   "metadata": {},
   "source": [
    "### **NUMPY SEARCHING ARRAYS**\n"
   ]
  },
  {
   "cell_type": "code",
   "execution_count": 42,
   "id": "631eb3d3-08a3-4a52-a3b7-64df06143cc2",
   "metadata": {},
   "outputs": [
    {
     "name": "stdout",
     "output_type": "stream",
     "text": [
      "(array([1, 2, 3, 6, 8], dtype=int64),)\n"
     ]
    }
   ],
   "source": [
    "# using Where(condition)\n",
    "aa = np.array([1,2,54,4,5,7,62,63,82,25])\n",
    "result = np.where(aa %2 ==0) # pass indexes\n",
    "print(result)"
   ]
  },
  {
   "cell_type": "code",
   "execution_count": 43,
   "id": "4e688a0b-3788-4916-9dbb-834111a55f43",
   "metadata": {},
   "outputs": [
    {
     "name": "stdout",
     "output_type": "stream",
     "text": [
      "(array([5], dtype=int64),)\n"
     ]
    }
   ],
   "source": [
    "aa2= np.array([1,2,54,4,5,7,62,63,82,25])\n",
    "result = np.where(aa2 == 7) # pass indexes\n",
    "print(result)"
   ]
  },
  {
   "cell_type": "code",
   "execution_count": 44,
   "id": "544dff77-2019-43b9-9592-bc6495395271",
   "metadata": {},
   "outputs": [
    {
     "name": "stdout",
     "output_type": "stream",
     "text": [
      "Position of 17 from left: 0\n",
      "Position of 17 from right: 1\n"
     ]
    }
   ],
   "source": [
    "# Using searchsorted() array -- works only with sorted arrays\n",
    "arr = np.array([41, 52, 24, 55, 26, 17])\n",
    "arr_sorted = np.sort(arr)  # Sort the array first\n",
    "\n",
    "# Search for the position of 17\n",
    "result = np.searchsorted(arr_sorted, 17)\n",
    "print(\"Position of 17 from left:\", result)\n",
    "\n",
    "# Search for the position of 17 from the right side\n",
    "x = np.searchsorted(arr_sorted, 17, side=\"right\")\n",
    "print(\"Position of 17 from right:\", x)"
   ]
  },
  {
   "cell_type": "code",
   "execution_count": 45,
   "id": "755ae8bf-b83c-4118-9059-8aa8a210e03e",
   "metadata": {},
   "outputs": [
    {
     "name": "stdout",
     "output_type": "stream",
     "text": [
      "[0 1 2]\n"
     ]
    }
   ],
   "source": [
    "# multi value search by using searchsorted()\n",
    "\n",
    "arr= np.array([12,22,44,45,76,87])\n",
    "x = np.searchsorted(arr,[12,22,44])\n",
    "print(x)"
   ]
  },
  {
   "cell_type": "markdown",
   "id": "816027f5-3c56-4bdf-9b4b-169a93f8269a",
   "metadata": {},
   "source": [
    "### **NUMPY SORTED ARRAYS**"
   ]
  },
  {
   "cell_type": "code",
   "execution_count": 46,
   "id": "586d044d-d1fb-489e-a48c-eece293bfc9f",
   "metadata": {},
   "outputs": [
    {
     "name": "stdout",
     "output_type": "stream",
     "text": [
      "[ 32  54  64  73  98 219]\n"
     ]
    }
   ],
   "source": [
    "arr = np.array([219,32,64,98,73,54])\n",
    "print(np.sort(arr))"
   ]
  },
  {
   "cell_type": "code",
   "execution_count": 47,
   "id": "90b0ff1e-6c1f-4c5f-92af-c4f3e901fee8",
   "metadata": {},
   "outputs": [
    {
     "name": "stdout",
     "output_type": "stream",
     "text": [
      "[[23 33 71]\n",
      " [16 21 98]]\n"
     ]
    }
   ],
   "source": [
    "#sorting 2D arrays\n",
    "aar = np.array([[71,23,33],[21,16,98]])\n",
    "print(np.sort(aar))"
   ]
  },
  {
   "cell_type": "code",
   "execution_count": null,
   "id": "8b3883f2-8e7b-4ae4-90a1-68b080e6bd20",
   "metadata": {},
   "outputs": [],
   "source": []
  }
 ],
 "metadata": {
  "kernelspec": {
   "display_name": "Python 3 (ipykernel)",
   "language": "python",
   "name": "python3"
  },
  "language_info": {
   "codemirror_mode": {
    "name": "ipython",
    "version": 3
   },
   "file_extension": ".py",
   "mimetype": "text/x-python",
   "name": "python",
   "nbconvert_exporter": "python",
   "pygments_lexer": "ipython3",
   "version": "3.12.4"
  }
 },
 "nbformat": 4,
 "nbformat_minor": 5
}
